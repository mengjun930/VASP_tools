{
 "cells": [
  {
   "cell_type": "code",
   "execution_count": 1,
   "metadata": {
    "collapsed": true
   },
   "outputs": [],
   "source": [
    "import numpy as np\n",
    "import os"
   ]
  },
  {
   "cell_type": "code",
   "execution_count": 2,
   "metadata": {
    "collapsed": true
   },
   "outputs": [],
   "source": [
    "def xyzsort(input_xyz, reverse_value = 1):\n",
    "    for i in range(len(input_xyz)):\n",
    "        input_xyz[i].reverse()\n",
    "    input_xyz.sort(reverse = reverse_value)\n",
    "    for i in range(len(input_xyz)):\n",
    "        input_xyz[i].reverse()\n",
    "    return input_xyz\n",
    "\n",
    "def read_fix_list(filename, n):\n",
    "    read_fix_list = open(filename, 'r')\n",
    "    xyz = read_fix_list.readlines()\n",
    "    read_fix_list.close()\n",
    "    xyz = xyz[8:]\n",
    "    read_z = [i.split()[2]  for i in xyz]\n",
    "    fix_list = np.unique(read_z)\n",
    "    return fix_list[:n]\n",
    "\n",
    "def joinxyz(x):\n",
    "    return  '     '+ '     '.join(x) + '\\n'\n",
    "\n",
    "def fix_atom_selected(source_file, target_file, fix_list):\n",
    "    fixed_atom_num = 0\n",
    "    row_sign = 0\n",
    "    selected = 0\n",
    "    with open(source_file, mode = 'r') as initial_file:\n",
    "        with open(target_file, mode = 'w') as finished_file:\n",
    "            for line in initial_file:\n",
    "                if row_sign < 7:\n",
    "                    finished_file.write(line)\n",
    "                elif row_sign == 7:\n",
    "                    if list(line.strip())[0] == 's' or list(line.strip())[0] == 'S':\n",
    "                        selected = 1\n",
    "                    else:\n",
    "                        selected = 0\n",
    "                        finished_file.write('selective\\n')\n",
    "                    finished_file.write(line)\n",
    "                else:\n",
    "                    if selected:\n",
    "                        finished_file.write(line)\n",
    "                    else:\n",
    "                        finished_file.write(line.rstrip())\n",
    "                        z=line.split()[2]\n",
    "                        if z in fix_list:\n",
    "                            finished_file.write(' F F F \\n')\n",
    "                            fixed_atom_num +=1\n",
    "                        else:\n",
    "                            finished_file.write(' T T T \\n')\n",
    "                row_sign += 1\n",
    "            print 'there are %d atoms fixed' % fixed_atom_num\n",
    "        return target_file\n",
    "    \n",
    "def get_vaspfile(infile):\n",
    "    if infile != '':\n",
    "        return infile\n",
    "    filename_list = os.listdir('./')\n",
    "    for filename in filename_list:\n",
    "        if '.vasp' in filename:\n",
    "            return filename"
   ]
  },
  {
   "cell_type": "code",
   "execution_count": 3,
   "metadata": {
    "collapsed": true
   },
   "outputs": [],
   "source": [
    "input_vasp = ''\n",
    "input_vasp = get_vaspfile(input_vasp)\n",
    "fp = open(input_vasp , 'r')\n",
    "read_fp = fp.readlines()\n",
    "num = np.sum(np.array(map(int, read_fp[6].strip().split())))\n",
    "element = read_fp[5]\n",
    "element = element.strip().split()\n",
    "num_element = read_fp[6]\n",
    "num_element = num_element.strip().split()\n",
    "num_element = [int(i) for i in num_element]\n",
    "xyz = read_fp[ 8: ]\n",
    "xyz = [ i.strip().split()      for  i in xyz]\n",
    "fp.close()"
   ]
  },
  {
   "cell_type": "code",
   "execution_count": 4,
   "metadata": {},
   "outputs": [
    {
     "name": "stdout",
     "output_type": "stream",
     "text": [
      "Cu 18\n",
      "Au 6\n"
     ]
    }
   ],
   "source": [
    "elem_xyz =[]\n",
    "for i in range(len(element)):\n",
    "    elem_type = element[i]\n",
    "    elem_num = num_element[i]\n",
    "    elem_xyz.append(xyz[:elem_num])\n",
    "    xyz = xyz[elem_num:]\n",
    "      \n",
    "    print elem_type, elem_num   "
   ]
  },
  {
   "cell_type": "code",
   "execution_count": 5,
   "metadata": {
    "collapsed": true
   },
   "outputs": [],
   "source": [
    "elem_xyz_sort = []\n",
    "for j in range(len(elem_xyz)):\n",
    "    elem_xyz[j] = xyzsort(elem_xyz[j])\n",
    "    for k in range(len(elem_xyz[j])):\n",
    "        elem_xyz_sort.append(elem_xyz[j][k])"
   ]
  },
  {
   "cell_type": "code",
   "execution_count": null,
   "metadata": {},
   "outputs": [],
   "source": []
  },
  {
   "cell_type": "code",
   "execution_count": 6,
   "metadata": {
    "collapsed": true
   },
   "outputs": [],
   "source": [
    "del read_fp[8: ]\n",
    "read_fp.extend(map(joinxyz, elem_xyz_sort))"
   ]
  },
  {
   "cell_type": "code",
   "execution_count": 7,
   "metadata": {},
   "outputs": [],
   "source": [
    "write_fp = open('POSCAR_sort', 'w')\n",
    "write_fp.writelines(read_fp)\n",
    "write_fp.close()"
   ]
  },
  {
   "cell_type": "code",
   "execution_count": 8,
   "metadata": {},
   "outputs": [
    {
     "name": "stdout",
     "output_type": "stream",
     "text": [
      "there are 8 atoms fixed\n"
     ]
    }
   ],
   "source": [
    "num_layer_fixed = 2\n",
    "input_file = 'POSCAR_sort'\n",
    "output_file = 'POSCAR'\n",
    "a = fix_atom_selected(input_file, output_file, read_fix_list(input_file, num_layer_fixed))"
   ]
  },
  {
   "cell_type": "code",
   "execution_count": 13,
   "metadata": {
    "collapsed": true
   },
   "outputs": [],
   "source": []
  },
  {
   "cell_type": "code",
   "execution_count": null,
   "metadata": {},
   "outputs": [],
   "source": []
  },
  {
   "cell_type": "code",
   "execution_count": 15,
   "metadata": {
    "collapsed": true
   },
   "outputs": [],
   "source": []
  },
  {
   "cell_type": "code",
   "execution_count": 49,
   "metadata": {
    "collapsed": true
   },
   "outputs": [],
   "source": []
  },
  {
   "cell_type": "code",
   "execution_count": null,
   "metadata": {},
   "outputs": [],
   "source": []
  },
  {
   "cell_type": "code",
   "execution_count": 19,
   "metadata": {},
   "outputs": [
    {
     "name": "stdout",
     "output_type": "stream",
     "text": [
      "Cu 18\n",
      "Au 6\n"
     ]
    }
   ],
   "source": []
  },
  {
   "cell_type": "code",
   "execution_count": 23,
   "metadata": {
    "collapsed": true
   },
   "outputs": [],
   "source": [
    "\n"
   ]
  },
  {
   "cell_type": "code",
   "execution_count": 37,
   "metadata": {
    "collapsed": true
   },
   "outputs": [],
   "source": []
  },
  {
   "cell_type": "code",
   "execution_count": 38,
   "metadata": {
    "collapsed": true
   },
   "outputs": [],
   "source": []
  },
  {
   "cell_type": "code",
   "execution_count": 41,
   "metadata": {},
   "outputs": [
    {
     "data": {
      "text/plain": [
       "['0.000000000', '0.500000000', '0.417219996']"
      ]
     },
     "execution_count": 41,
     "metadata": {},
     "output_type": "execute_result"
    }
   ],
   "source": [
    "elem_xyz_sort[1]"
   ]
  },
  {
   "cell_type": "code",
   "execution_count": 10,
   "metadata": {},
   "outputs": [
    {
     "data": {
      "text/plain": [
       "['POSCAR\\\\(1\\\\1\\\\1)\\n',\n",
       " '1.0\\n',\n",
       " '        5.2609000206         0.0000000000         0.0000000000\\n',\n",
       " '        2.6304500103         4.5560730646         0.0000000000\\n',\n",
       " '        0.0000000000         0.0000000000        25.7387008667\\n',\n",
       " '   Cu   Au\\n',\n",
       " '   18    6\\n',\n",
       " 'Direct\\n',\n",
       " '     0.166669995         0.166669995         0.000000000\\n',\n",
       " '     0.833329976         0.833329976         0.083439998\\n',\n",
       " '     0.500000000         0.500000000         0.166889995\\n',\n",
       " '     0.166669995         0.166669995         0.250330001\\n',\n",
       " '     0.833329976         0.833329976         0.333779991\\n',\n",
       " '     0.500000000         0.500000000         0.417219996\\n',\n",
       " '     0.166669995         0.666670024         0.000000000\\n',\n",
       " '     0.833329976         0.333330005         0.083439998\\n',\n",
       " '     0.500000000         0.000000000         0.166889995\\n',\n",
       " '     0.166669995         0.666670024         0.250330001\\n',\n",
       " '     0.833329976         0.333330005         0.333779991\\n',\n",
       " '     0.500000000         0.000000000         0.417219996\\n',\n",
       " '     0.666670024         0.166669995         0.000000000\\n',\n",
       " '     0.333330005         0.833329976         0.083439998\\n',\n",
       " '     0.000000000         0.500000000         0.166889995\\n',\n",
       " '     0.666670024         0.166669995         0.250330001\\n',\n",
       " '     0.333330005         0.833329976         0.333779991\\n',\n",
       " '     0.000000000         0.500000000         0.417219996\\n',\n",
       " '     0.666670024         0.666670024         0.000000000\\n',\n",
       " '     0.333330005         0.333330005         0.083439998\\n',\n",
       " '     0.000000000         0.000000000         0.166889995\\n',\n",
       " '     0.666670024         0.666670024         0.250330001\\n',\n",
       " '     0.333330005         0.333330005         0.333779991\\n',\n",
       " '     0.000000000         0.000000000         0.417219996\\n']"
      ]
     },
     "execution_count": 10,
     "metadata": {},
     "output_type": "execute_result"
    }
   ],
   "source": [
    "read_fp"
   ]
  },
  {
   "cell_type": "code",
   "execution_count": 29,
   "metadata": {
    "collapsed": true
   },
   "outputs": [],
   "source": []
  },
  {
   "cell_type": "code",
   "execution_count": 30,
   "metadata": {
    "collapsed": true
   },
   "outputs": [],
   "source": []
  },
  {
   "cell_type": "code",
   "execution_count": 42,
   "metadata": {
    "collapsed": true
   },
   "outputs": [],
   "source": []
  },
  {
   "cell_type": "code",
   "execution_count": null,
   "metadata": {},
   "outputs": [],
   "source": []
  },
  {
   "cell_type": "code",
   "execution_count": 44,
   "metadata": {
    "collapsed": true
   },
   "outputs": [],
   "source": []
  },
  {
   "cell_type": "code",
   "execution_count": 45,
   "metadata": {
    "collapsed": true
   },
   "outputs": [],
   "source": []
  },
  {
   "cell_type": "code",
   "execution_count": 51,
   "metadata": {},
   "outputs": [
    {
     "name": "stdout",
     "output_type": "stream",
     "text": [
      "there are 8 atoms fixed\n"
     ]
    }
   ],
   "source": []
  },
  {
   "cell_type": "code",
   "execution_count": null,
   "metadata": {},
   "outputs": [],
   "source": []
  },
  {
   "cell_type": "code",
   "execution_count": null,
   "metadata": {
    "collapsed": true
   },
   "outputs": [],
   "source": []
  }
 ],
 "metadata": {
  "kernelspec": {
   "display_name": "Python 2",
   "language": "python",
   "name": "python2"
  },
  "language_info": {
   "codemirror_mode": {
    "name": "ipython",
    "version": 2
   },
   "file_extension": ".py",
   "mimetype": "text/x-python",
   "name": "python",
   "nbconvert_exporter": "python",
   "pygments_lexer": "ipython2",
   "version": "2.7.14"
  }
 },
 "nbformat": 4,
 "nbformat_minor": 2
}
